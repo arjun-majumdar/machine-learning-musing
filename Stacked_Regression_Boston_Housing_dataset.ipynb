{
 "cells": [
  {
   "cell_type": "markdown",
   "metadata": {},
   "source": [
    "# Stacked Regression Example:\n",
    "Using _Boston Housing_ dataset as an example for stacked regression.\n",
    "\n",
    "Need to predict (Regression task) values for _medv_ attribute/feature."
   ]
  },
  {
   "cell_type": "code",
   "execution_count": 60,
   "metadata": {},
   "outputs": [],
   "source": [
    "import pandas as pd\n",
    "import numpy as np\n",
    "import matplotlib.pyplot as plt\n",
    "import seaborn as sns\n",
    "from sklearn.model_selection import train_test_split\n",
    "from sklearn.preprocessing import StandardScaler, MinMaxScaler, RobustScaler\n",
    "from sklearn.linear_model import LinearRegression, Ridge\n",
    "from sklearn.metrics import mean_squared_error, mean_absolute_error, r2_score\n",
    "from sklearn.tree import DecisionTreeRegressor\n",
    "from sklearn.ensemble import RandomForestRegressor, StackingRegressor\n",
    "from sklearn.model_selection import cross_val_score\n",
    "from sklearn.model_selection import RandomizedSearchCV, GridSearchCV\n",
    "import lightgbm as lgb\n",
    "import xgboost as xgb"
   ]
  },
  {
   "cell_type": "code",
   "execution_count": 2,
   "metadata": {},
   "outputs": [],
   "source": [
    "# Read in data-\n",
    "boston_data = pd.read_csv(\"train.csv\")"
   ]
  },
  {
   "cell_type": "code",
   "execution_count": 3,
   "metadata": {},
   "outputs": [
    {
     "data": {
      "text/plain": [
       "(333, 15)"
      ]
     },
     "execution_count": 3,
     "metadata": {},
     "output_type": "execute_result"
    }
   ],
   "source": [
    "# Get dimensions of data-\n",
    "boston_data.shape"
   ]
  },
  {
   "cell_type": "code",
   "execution_count": 4,
   "metadata": {},
   "outputs": [
    {
     "data": {
      "text/html": [
       "<div>\n",
       "<style scoped>\n",
       "    .dataframe tbody tr th:only-of-type {\n",
       "        vertical-align: middle;\n",
       "    }\n",
       "\n",
       "    .dataframe tbody tr th {\n",
       "        vertical-align: top;\n",
       "    }\n",
       "\n",
       "    .dataframe thead th {\n",
       "        text-align: right;\n",
       "    }\n",
       "</style>\n",
       "<table border=\"1\" class=\"dataframe\">\n",
       "  <thead>\n",
       "    <tr style=\"text-align: right;\">\n",
       "      <th></th>\n",
       "      <th>ID</th>\n",
       "      <th>crim</th>\n",
       "      <th>zn</th>\n",
       "      <th>indus</th>\n",
       "      <th>chas</th>\n",
       "      <th>nox</th>\n",
       "      <th>rm</th>\n",
       "      <th>age</th>\n",
       "      <th>dis</th>\n",
       "      <th>rad</th>\n",
       "      <th>tax</th>\n",
       "      <th>ptratio</th>\n",
       "      <th>black</th>\n",
       "      <th>lstat</th>\n",
       "      <th>medv</th>\n",
       "    </tr>\n",
       "  </thead>\n",
       "  <tbody>\n",
       "    <tr>\n",
       "      <th>0</th>\n",
       "      <td>1</td>\n",
       "      <td>0.00632</td>\n",
       "      <td>18.0</td>\n",
       "      <td>2.31</td>\n",
       "      <td>0</td>\n",
       "      <td>0.538</td>\n",
       "      <td>6.575</td>\n",
       "      <td>65.2</td>\n",
       "      <td>4.0900</td>\n",
       "      <td>1</td>\n",
       "      <td>296</td>\n",
       "      <td>15.3</td>\n",
       "      <td>396.90</td>\n",
       "      <td>4.98</td>\n",
       "      <td>24.0</td>\n",
       "    </tr>\n",
       "    <tr>\n",
       "      <th>1</th>\n",
       "      <td>2</td>\n",
       "      <td>0.02731</td>\n",
       "      <td>0.0</td>\n",
       "      <td>7.07</td>\n",
       "      <td>0</td>\n",
       "      <td>0.469</td>\n",
       "      <td>6.421</td>\n",
       "      <td>78.9</td>\n",
       "      <td>4.9671</td>\n",
       "      <td>2</td>\n",
       "      <td>242</td>\n",
       "      <td>17.8</td>\n",
       "      <td>396.90</td>\n",
       "      <td>9.14</td>\n",
       "      <td>21.6</td>\n",
       "    </tr>\n",
       "    <tr>\n",
       "      <th>2</th>\n",
       "      <td>4</td>\n",
       "      <td>0.03237</td>\n",
       "      <td>0.0</td>\n",
       "      <td>2.18</td>\n",
       "      <td>0</td>\n",
       "      <td>0.458</td>\n",
       "      <td>6.998</td>\n",
       "      <td>45.8</td>\n",
       "      <td>6.0622</td>\n",
       "      <td>3</td>\n",
       "      <td>222</td>\n",
       "      <td>18.7</td>\n",
       "      <td>394.63</td>\n",
       "      <td>2.94</td>\n",
       "      <td>33.4</td>\n",
       "    </tr>\n",
       "    <tr>\n",
       "      <th>3</th>\n",
       "      <td>5</td>\n",
       "      <td>0.06905</td>\n",
       "      <td>0.0</td>\n",
       "      <td>2.18</td>\n",
       "      <td>0</td>\n",
       "      <td>0.458</td>\n",
       "      <td>7.147</td>\n",
       "      <td>54.2</td>\n",
       "      <td>6.0622</td>\n",
       "      <td>3</td>\n",
       "      <td>222</td>\n",
       "      <td>18.7</td>\n",
       "      <td>396.90</td>\n",
       "      <td>5.33</td>\n",
       "      <td>36.2</td>\n",
       "    </tr>\n",
       "    <tr>\n",
       "      <th>4</th>\n",
       "      <td>7</td>\n",
       "      <td>0.08829</td>\n",
       "      <td>12.5</td>\n",
       "      <td>7.87</td>\n",
       "      <td>0</td>\n",
       "      <td>0.524</td>\n",
       "      <td>6.012</td>\n",
       "      <td>66.6</td>\n",
       "      <td>5.5605</td>\n",
       "      <td>5</td>\n",
       "      <td>311</td>\n",
       "      <td>15.2</td>\n",
       "      <td>395.60</td>\n",
       "      <td>12.43</td>\n",
       "      <td>22.9</td>\n",
       "    </tr>\n",
       "  </tbody>\n",
       "</table>\n",
       "</div>"
      ],
      "text/plain": [
       "   ID     crim    zn  indus  chas    nox     rm   age     dis  rad  tax  \\\n",
       "0   1  0.00632  18.0   2.31     0  0.538  6.575  65.2  4.0900    1  296   \n",
       "1   2  0.02731   0.0   7.07     0  0.469  6.421  78.9  4.9671    2  242   \n",
       "2   4  0.03237   0.0   2.18     0  0.458  6.998  45.8  6.0622    3  222   \n",
       "3   5  0.06905   0.0   2.18     0  0.458  7.147  54.2  6.0622    3  222   \n",
       "4   7  0.08829  12.5   7.87     0  0.524  6.012  66.6  5.5605    5  311   \n",
       "\n",
       "   ptratio   black  lstat  medv  \n",
       "0     15.3  396.90   4.98  24.0  \n",
       "1     17.8  396.90   9.14  21.6  \n",
       "2     18.7  394.63   2.94  33.4  \n",
       "3     18.7  396.90   5.33  36.2  \n",
       "4     15.2  395.60  12.43  22.9  "
      ]
     },
     "execution_count": 4,
     "metadata": {},
     "output_type": "execute_result"
    }
   ],
   "source": [
    "boston_data.head()"
   ]
  },
  {
   "cell_type": "code",
   "execution_count": 5,
   "metadata": {},
   "outputs": [],
   "source": [
    "# Delete 'ID' attribute-\n",
    "boston_data_id = boston_data['ID']\n",
    "boston_data.drop('ID', axis = 1, inplace=True)"
   ]
  },
  {
   "cell_type": "code",
   "execution_count": 6,
   "metadata": {},
   "outputs": [
    {
     "data": {
      "text/plain": [
       "(333, 14)"
      ]
     },
     "execution_count": 6,
     "metadata": {},
     "output_type": "execute_result"
    }
   ],
   "source": [
    "# Get dimensions of data AFTER dropping 'ID' attribute-\n",
    "boston_data.shape"
   ]
  },
  {
   "cell_type": "code",
   "execution_count": 7,
   "metadata": {},
   "outputs": [
    {
     "data": {
      "text/plain": [
       "False"
      ]
     },
     "execution_count": 7,
     "metadata": {},
     "output_type": "execute_result"
    }
   ],
   "source": [
    "# Check for missing value in data-\n",
    "boston_data.isnull().values.any()"
   ]
  },
  {
   "cell_type": "code",
   "execution_count": 9,
   "metadata": {},
   "outputs": [
    {
     "data": {
      "image/png": "[encoded data removed]",
      "text/plain": [
       "<Figure size 800x720 with 1 Axes>"
      ]
     },
     "metadata": {},
     "output_type": "display_data"
    }
   ],
   "source": [
    "# Visualize distribution of attributes-\n",
    "fig=plt.figure(figsize=(10, 9), dpi= 80, facecolor='w', edgecolor='k')\n",
    "\n",
    "sns.boxplot(data=boston_data.iloc[:, :-1])\n",
    "\n",
    "plt.title(\"Boston Housing dataset distribution\")\n",
    "plt.xticks(rotation = 20)\n",
    "plt.show()"
   ]
  },
  {
   "cell_type": "code",
   "execution_count": 10,
   "metadata": {},
   "outputs": [],
   "source": [
    "cols = boston_data.columns.tolist()\n",
    "\n",
    "cols.remove('medv')\n",
    "cols.remove('age')\n",
    "cols.remove('tax')"
   ]
  },
  {
   "cell_type": "code",
   "execution_count": 11,
   "metadata": {},
   "outputs": [
    {
     "data": {
      "image/png": "[encoded data removed]",
      "text/plain": [
       "<Figure size 800x720 with 1 Axes>"
      ]
     },
     "metadata": {},
     "output_type": "display_data"
    }
   ],
   "source": [
    "# Visualize distribution of attributes without the 3 attributes from above-\n",
    "fig=plt.figure(figsize=(10, 9), dpi= 80, facecolor='w', edgecolor='k')\n",
    "\n",
    "sns.boxplot(data=boston_data.loc[:, cols])\n",
    "\n",
    "plt.title(\"Boston Housing dataset distribution (without 'age', 'tax', 'medv') attributes\")\n",
    "plt.xticks(rotation = 20)\n",
    "plt.show()"
   ]
  },
  {
   "cell_type": "markdown",
   "metadata": {},
   "source": [
    "### Observation:\n",
    "The attributes have a skewed distribution with lots of outliers for some of the attributes!"
   ]
  },
  {
   "cell_type": "code",
   "execution_count": 23,
   "metadata": {},
   "outputs": [
    {
     "data": {
      "image/png": "[encoded data removed]",
      "text/plain": [
       "<Figure size 720x640 with 2 Axes>"
      ]
     },
     "metadata": {},
     "output_type": "display_data"
    }
   ],
   "source": [
    "# Create heatmap for training data-\n",
    "\n",
    "# Calculate correlation matrices-\n",
    "fig=plt.figure(figsize=(9, 8), dpi= 80, facecolor='w', edgecolor='k')\n",
    "\n",
    "boston_data_train_corr = boston_data.corr()\n",
    "\n",
    "# Create heatmap for training data-\n",
    "sns.heatmap(boston_data_train_corr)\n",
    "\n",
    "plt.title(\"Boston training data Heatmap\")\n",
    "plt.xticks(rotation = 20)\n",
    "plt.yticks(rotation = 20)\n",
    "plt.show()"
   ]
  },
  {
   "cell_type": "code",
   "execution_count": 12,
   "metadata": {},
   "outputs": [],
   "source": [
    "# To divide the data into features (X) and labels (y)-\n",
    "\n",
    "# 'X' contains attributes\n",
    "X = boston_data.drop('medv', axis = 1)\n",
    "\n",
    "# X = X.values\n",
    "# X = X[:,:].astype('float')\n",
    "\n",
    "# 'y' contains labels\n",
    "y = boston_data['medv']"
   ]
  },
  {
   "cell_type": "code",
   "execution_count": 14,
   "metadata": {},
   "outputs": [],
   "source": [
    "# Standardize/Normalize Features-\n",
    "# std_scaler = StandardScaler()\n",
    "rb_scaler = RobustScaler()\n",
    "\n",
    "# X_scaled = std_scaler.fit_transform(X)\n",
    "X_scaled = rb_scaler.fit_transform(X)\n",
    "\n",
    "# Convert from numpy.ndarray to Pandas DataFrame-\n",
    "X_scaled = pd.DataFrame(X_scaled, columns=X.columns)\n",
    "\n",
    "# We have NOT scaled/normalized the target attribute 'medv' in 'y'!"
   ]
  },
  {
   "cell_type": "code",
   "execution_count": 15,
   "metadata": {},
   "outputs": [
    {
     "name": "stdout",
     "output_type": "stream",
     "text": [
      "\n",
      "Shape of training and testing sets are:\n",
      "X_train = (233, 13), y_train = (233,), X_test = (100, 13) and y_test = (100,)\n",
      "\n"
     ]
    }
   ],
   "source": [
    "# Divide dataset into training and testing sets-\n",
    "X_train, X_test, y_train, y_test = train_test_split(X, y, test_size = 0.3)\n",
    "\n",
    "print(\"\\nShape of training and testing sets are:\")\n",
    "print(\"X_train = {0}, y_train = {1}, X_test = {2} and y_test = {3}\\n\".format(X_train.shape, y_train.shape, X_test.shape, y_test.shape))"
   ]
  },
  {
   "cell_type": "code",
   "execution_count": 16,
   "metadata": {},
   "outputs": [
    {
     "data": {
      "text/plain": [
       "DecisionTreeRegressor(ccp_alpha=0.0, criterion='mse', max_depth=None,\n",
       "                      max_features=None, max_leaf_nodes=None,\n",
       "                      min_impurity_decrease=0.0, min_impurity_split=None,\n",
       "                      min_samples_leaf=1, min_samples_split=2,\n",
       "                      min_weight_fraction_leaf=0.0, presort='deprecated',\n",
       "                      random_state=None, splitter='best')"
      ]
     },
     "execution_count": 16,
     "metadata": {},
     "output_type": "execute_result"
    }
   ],
   "source": [
    "# Use a DecisionTree regressor-\n",
    "dt_reg = DecisionTreeRegressor()\n",
    "\n",
    "# Train model on training data-\n",
    "dt_reg.fit(X_train, y_train)"
   ]
  },
  {
   "cell_type": "code",
   "execution_count": 17,
   "metadata": {},
   "outputs": [],
   "source": [
    "# Make predictions using trained model-\n",
    "y_pred = dt_reg.predict(X_test)"
   ]
  },
  {
   "cell_type": "code",
   "execution_count": 18,
   "metadata": {},
   "outputs": [
    {
     "name": "stdout",
     "output_type": "stream",
     "text": [
      "\n",
      "Decision Tree regressor (base model) metrics are:\n",
      "MAE = 2.7130, MSE = 17.2435 and R2-score = 0.7986\n",
      "\n"
     ]
    }
   ],
   "source": [
    "# Get trained model metrics-\n",
    "mse = mean_squared_error(y_test, y_pred)\n",
    "mae = mean_absolute_error(y_test, y_pred)\n",
    "r2s = r2_score(y_test, y_pred)\n",
    "\n",
    "print(\"\\nDecision Tree regressor (base model) metrics are:\")\n",
    "print(\"MAE = {0:.4f}, MSE = {1:.4f} and R2-score = {2:.4f}\\n\".format(mae, mse, r2s))"
   ]
  },
  {
   "cell_type": "code",
   "execution_count": 19,
   "metadata": {},
   "outputs": [
    {
     "name": "stdout",
     "output_type": "stream",
     "text": [
      "\n",
      "Metrics for DecisionTree regressor (R2-Score) using 5-fold CV are:\n",
      "Mean = 0.6912 and Standard Deviation = 0.1011\n",
      "\n"
     ]
    }
   ],
   "source": [
    "# Use 5-fold CV (R2-Scores)-\n",
    "dt_reg_cv = cross_val_score(DecisionTreeRegressor(), X_train, y_train, cv = 5)\n",
    "\n",
    "print(\"\\nMetrics for DecisionTree regressor (R2-Score) using 5-fold CV are:\")\n",
    "print(\"Mean = {0:.4f} and Standard Deviation = {1:.4f}\\n\".format(dt_reg_cv.mean(), dt_reg_cv.std()))"
   ]
  },
  {
   "cell_type": "code",
   "execution_count": 20,
   "metadata": {},
   "outputs": [
    {
     "name": "stdout",
     "output_type": "stream",
     "text": [
      "\n",
      "Metrics for DecisionTree regressor (MSE) using 5-fold CV are:\n",
      "Mean = 28.3467 and Standard Deviation = 13.5363\n",
      "\n"
     ]
    }
   ],
   "source": [
    "# Use 5-fold CV (MSE-Scores)-\n",
    "dt_reg_cv_mse = cross_val_score(DecisionTreeRegressor(), X_train, y_train, cv = 5, scoring = 'neg_mean_squared_error')\n",
    "dt_reg_cv_mse = -dt_reg_cv_mse\n",
    "\n",
    "print(\"\\nMetrics for DecisionTree regressor (MSE) using 5-fold CV are:\")\n",
    "print(\"Mean = {0:.4f} and Standard Deviation = {1:.4f}\\n\".format(dt_reg_cv_mse.mean(), dt_reg_cv_mse.std()))"
   ]
  },
  {
   "cell_type": "code",
   "execution_count": 24,
   "metadata": {},
   "outputs": [],
   "source": [
    "# Remove attributes which are correlated to target 'medv' attribute-\n",
    "cols_corr = boston_data.columns.tolist()"
   ]
  },
  {
   "cell_type": "code",
   "execution_count": 25,
   "metadata": {},
   "outputs": [],
   "source": [
    "cols_corr.remove('medv')\n",
    "cols_corr.remove('rm')\n",
    "cols_corr.remove('zn')\n",
    "cols_corr.remove('black')\n",
    "cols_corr.remove('dis')\n",
    "cols_corr.remove('chas')"
   ]
  },
  {
   "cell_type": "code",
   "execution_count": 26,
   "metadata": {},
   "outputs": [
    {
     "data": {
      "text/plain": [
       "DecisionTreeRegressor(ccp_alpha=0.0, criterion='mse', max_depth=None,\n",
       "                      max_features=None, max_leaf_nodes=None,\n",
       "                      min_impurity_decrease=0.0, min_impurity_split=None,\n",
       "                      min_samples_leaf=1, min_samples_split=2,\n",
       "                      min_weight_fraction_leaf=0.0, presort='deprecated',\n",
       "                      random_state=None, splitter='best')"
      ]
     },
     "execution_count": 26,
     "metadata": {},
     "output_type": "execute_result"
    }
   ],
   "source": [
    "# Train a new Decision Tree regressor without the correlated attributes-\n",
    "dt_reg2 = DecisionTreeRegressor()\n",
    "\n",
    "dt_reg2.fit(X_train.loc[:, cols_corr], y_train)"
   ]
  },
  {
   "cell_type": "code",
   "execution_count": 27,
   "metadata": {},
   "outputs": [],
   "source": [
    "y_pred2 = dt_reg2.predict(X_test.loc[:, cols_corr])"
   ]
  },
  {
   "cell_type": "code",
   "execution_count": 28,
   "metadata": {},
   "outputs": [
    {
     "name": "stdout",
     "output_type": "stream",
     "text": [
      "\n",
      "Decision Tree regressor (without correlated attributes) metrics are:\n",
      "MAE = 4.2540, MSE = 45.6872 and R2-score = 0.4665\n",
      "\n"
     ]
    }
   ],
   "source": [
    "# Get trained model metrics-\n",
    "mse = mean_squared_error(y_test, y_pred2)\n",
    "mae = mean_absolute_error(y_test, y_pred2)\n",
    "r2s = r2_score(y_test, y_pred2)\n",
    "\n",
    "print(\"\\nDecision Tree regressor (without correlated attributes) metrics are:\")\n",
    "print(\"MAE = {0:.4f}, MSE = {1:.4f} and R2-score = {2:.4f}\\n\".format(mae, mse, r2s))"
   ]
  },
  {
   "cell_type": "markdown",
   "metadata": {},
   "source": [
    "### Observation:\n",
    "It's clear from the results that removing correlated attributes with the target attribute does NOT improve the model performance metrics for a Decision Tree regressor!"
   ]
  },
  {
   "cell_type": "code",
   "execution_count": 29,
   "metadata": {},
   "outputs": [],
   "source": [
    "from sklearn.linear_model import ElasticNet\n",
    "from sklearn.linear_model import LinearRegression, Ridge"
   ]
  },
  {
   "cell_type": "code",
   "execution_count": 30,
   "metadata": {},
   "outputs": [
    {
     "data": {
      "text/plain": [
       "ElasticNet(alpha=1.0, copy_X=True, fit_intercept=True, l1_ratio=0.5,\n",
       "           max_iter=1000, normalize=False, positive=False, precompute=False,\n",
       "           random_state=None, selection='cyclic', tol=0.0001, warm_start=False)"
      ]
     },
     "execution_count": 30,
     "metadata": {},
     "output_type": "execute_result"
    }
   ],
   "source": [
    "# Instantiate an Elastic Net regressor object-\n",
    "elnet = ElasticNet()\n",
    "\n",
    "# Train regressor on training data-\n",
    "elnet.fit(X_train, y_train)"
   ]
  },
  {
   "cell_type": "code",
   "execution_count": 31,
   "metadata": {},
   "outputs": [],
   "source": [
    "# Make predictions using trained model-\n",
    "y_pred = elnet.predict(X_test)"
   ]
  },
  {
   "cell_type": "code",
   "execution_count": 32,
   "metadata": {},
   "outputs": [
    {
     "name": "stdout",
     "output_type": "stream",
     "text": [
      "\n",
      "Elastic Net regressor (base model) metrics are:\n",
      "MAE = 3.5489, MSE = 28.4528 and R2-score = 0.6677\n",
      "\n"
     ]
    }
   ],
   "source": [
    "# Get trained model metrics-\n",
    "mse = mean_squared_error(y_test, y_pred)\n",
    "mae = mean_absolute_error(y_test, y_pred)\n",
    "r2s = r2_score(y_test, y_pred)\n",
    "\n",
    "print(\"\\nElastic Net regressor (base model) metrics are:\")\n",
    "print(\"MAE = {0:.4f}, MSE = {1:.4f} and R2-score = {2:.4f}\\n\".format(mae, mse, r2s))"
   ]
  },
  {
   "cell_type": "code",
   "execution_count": 33,
   "metadata": {},
   "outputs": [
    {
     "data": {
      "text/plain": [
       "LinearRegression(copy_X=True, fit_intercept=True, n_jobs=None, normalize=False)"
      ]
     },
     "execution_count": 33,
     "metadata": {},
     "output_type": "execute_result"
    }
   ],
   "source": [
    "# Initialize a Linear Regression model-\n",
    "lr_model = LinearRegression()\n",
    "\n",
    "# Train model using training data-\n",
    "lr_model.fit(X_train, y_train)"
   ]
  },
  {
   "cell_type": "code",
   "execution_count": 34,
   "metadata": {},
   "outputs": [],
   "source": [
    "# Make predictions using trained model-\n",
    "y_pred = lr_model.predict(X_test)"
   ]
  },
  {
   "cell_type": "code",
   "execution_count": 35,
   "metadata": {},
   "outputs": [
    {
     "name": "stdout",
     "output_type": "stream",
     "text": [
      "\n",
      "Linear regression (base model) metrics are:\n",
      "MAE = 3.5109, MSE = 30.5067 and R2-score = 0.6438\n",
      "\n"
     ]
    }
   ],
   "source": [
    "# Get trained model metrics-\n",
    "mse = mean_squared_error(y_test, y_pred)\n",
    "mae = mean_absolute_error(y_test, y_pred)\n",
    "r2s = r2_score(y_test, y_pred)\n",
    "\n",
    "print(\"\\nLinear regression (base model) metrics are:\")\n",
    "print(\"MAE = {0:.4f}, MSE = {1:.4f} and R2-score = {2:.4f}\\n\".format(mae, mse, r2s))"
   ]
  },
  {
   "cell_type": "code",
   "execution_count": 36,
   "metadata": {},
   "outputs": [
    {
     "name": "stdout",
     "output_type": "stream",
     "text": [
      "\n",
      "\n",
      "\n",
      "Brute forcing best score for Ridge Regression using different 'alpha' values.\n",
      "\n",
      "\n"
     ]
    }
   ],
   "source": [
    "# Performing 'Ridge Regression'-\n",
    "\n",
    "print(\"\\n\\n\\nBrute forcing best score for Ridge Regression using different 'alpha' values.\\n\\n\")\n",
    "\n",
    "# A dictionary to store alpha as key and ridge regression score as value-\n",
    "Ridge_Score = {}\n",
    "\n",
    "\n",
    "for alpha in [x for x in range(10, 180, 10)]:\n",
    "\tlin_ridge_model = Ridge(alpha = alpha)\n",
    "\n",
    "\tlin_ridge_model.fit(X_train, y_train)\n",
    "\n",
    "\tRidge_Score[alpha] = lin_ridge_model.score(X_test, y_test)\n",
    "\n",
    "\t# print(\"\\nRidge Regression score for alpha = {0} is = {1:.4f}\\n\".format(alpha, lin_ridge_model.score(X_test, y_test)))\n"
   ]
  },
  {
   "cell_type": "code",
   "execution_count": 37,
   "metadata": {},
   "outputs": [
    {
     "name": "stdout",
     "output_type": "stream",
     "text": [
      "\n",
      "\n",
      "'alpha' giving minimum ridge score: 10, Ridge score: 0.6481\n",
      "\n",
      "\n"
     ]
    }
   ],
   "source": [
    "# Get 'alpha' corresponding to minimum ridge regression score-\n",
    "min_alpha = min(Ridge_Score, key = lambda k: Ridge_Score[k])\n",
    "\n",
    "print(\"\\n\\n'alpha' giving minimum ridge score: {0}, Ridge score: {1:.4f}\\n\\n\".format(min_alpha, Ridge_Score[min_alpha]))"
   ]
  },
  {
   "cell_type": "code",
   "execution_count": 38,
   "metadata": {},
   "outputs": [
    {
     "data": {
      "text/plain": [
       "Ridge(alpha=10, copy_X=True, fit_intercept=True, max_iter=None, normalize=False,\n",
       "      random_state=None, solver='auto', tol=0.001)"
      ]
     },
     "execution_count": 38,
     "metadata": {},
     "output_type": "execute_result"
    }
   ],
   "source": [
    "# Using Ridge regression model (alpha value) from above-\n",
    "lin_rid_reg = Ridge(alpha = min_alpha)\n",
    "\n",
    "lin_rid_reg.fit(X_train, y_train)"
   ]
  },
  {
   "cell_type": "code",
   "execution_count": 39,
   "metadata": {},
   "outputs": [],
   "source": [
    "# Make predictions using trained model-\n",
    "y_pred = lin_rid_reg.predict(X_test)"
   ]
  },
  {
   "cell_type": "code",
   "execution_count": 40,
   "metadata": {},
   "outputs": [
    {
     "name": "stdout",
     "output_type": "stream",
     "text": [
      "\n",
      "Ridge regression metrics are:\n",
      "MAE = 3.4978, MSE = 30.1357 and R2-score = 0.6481\n",
      "\n"
     ]
    }
   ],
   "source": [
    "# Get trained model metrics-\n",
    "mse = mean_squared_error(y_test, y_pred)\n",
    "mae = mean_absolute_error(y_test, y_pred)\n",
    "r2s = r2_score(y_test, y_pred)\n",
    "\n",
    "print(\"\\nRidge regression metrics are:\")\n",
    "print(\"MAE = {0:.4f}, MSE = {1:.4f} and R2-score = {2:.4f}\\n\".format(mae, mse, r2s))"
   ]
  },
  {
   "cell_type": "code",
   "execution_count": 41,
   "metadata": {},
   "outputs": [],
   "source": [
    "from sklearn.neighbors import KNeighborsRegressor"
   ]
  },
  {
   "cell_type": "code",
   "execution_count": 43,
   "metadata": {},
   "outputs": [],
   "source": [
    "# Initialize KNN regressor using manually specified parameters-\n",
    "knn_reg = KNeighborsRegressor(n_neighbors=6, metric='manhattan', algorithm='auto', weights='distance')"
   ]
  },
  {
   "cell_type": "code",
   "execution_count": 44,
   "metadata": {},
   "outputs": [
    {
     "data": {
      "text/plain": [
       "KNeighborsRegressor(algorithm='auto', leaf_size=30, metric='manhattan',\n",
       "                    metric_params=None, n_jobs=None, n_neighbors=6, p=2,\n",
       "                    weights='distance')"
      ]
     },
     "execution_count": 44,
     "metadata": {},
     "output_type": "execute_result"
    }
   ],
   "source": [
    "# Train model on training data-\n",
    "knn_reg.fit(X_train, y_train)"
   ]
  },
  {
   "cell_type": "code",
   "execution_count": 45,
   "metadata": {},
   "outputs": [],
   "source": [
    "# Make predictions-\n",
    "y_pred = knn_reg.predict(X_test)"
   ]
  },
  {
   "cell_type": "code",
   "execution_count": 46,
   "metadata": {},
   "outputs": [
    {
     "name": "stdout",
     "output_type": "stream",
     "text": [
      "\n",
      "KNN regression metrics are:\n",
      "MAE = 3.8449, MSE = 33.9973 and R2-score = 0.6030\n",
      "\n"
     ]
    }
   ],
   "source": [
    "# Get trained model metrics-\n",
    "mse = mean_squared_error(y_test, y_pred)\n",
    "mae = mean_absolute_error(y_test, y_pred)\n",
    "r2s = r2_score(y_test, y_pred)\n",
    "\n",
    "print(\"\\nKNN regression metrics are:\")\n",
    "print(\"MAE = {0:.4f}, MSE = {1:.4f} and R2-score = {2:.4f}\\n\".format(mae, mse, r2s))"
   ]
  },
  {
   "cell_type": "code",
   "execution_count": 47,
   "metadata": {},
   "outputs": [],
   "source": [
    "from sklearn import svm"
   ]
  },
  {
   "cell_type": "code",
   "execution_count": 48,
   "metadata": {},
   "outputs": [
    {
     "data": {
      "text/plain": [
       "SVR(C=1.0, cache_size=200, coef0=0.0, degree=3, epsilon=0.1, gamma='auto',\n",
       "    kernel='rbf', max_iter=-1, shrinking=True, tol=0.001, verbose=False)"
      ]
     },
     "execution_count": 48,
     "metadata": {},
     "output_type": "execute_result"
    }
   ],
   "source": [
    "# Initialize a SVM regressor-\n",
    "svm_reg = svm.SVR(gamma='auto')\n",
    "\n",
    "# Train model on training data-\n",
    "svm_reg.fit(X_train, y_train)"
   ]
  },
  {
   "cell_type": "code",
   "execution_count": 49,
   "metadata": {},
   "outputs": [],
   "source": [
    "# Make predictions using trained model-\n",
    "y_pred = svm_reg.predict(X_test)"
   ]
  },
  {
   "cell_type": "code",
   "execution_count": 50,
   "metadata": {},
   "outputs": [
    {
     "name": "stdout",
     "output_type": "stream",
     "text": [
      "\n",
      "SVM regressor (base model) metrics are:\n",
      "MAE = 6.4975, MSE = 85.5894 and R2-score = 0.0005\n",
      "\n"
     ]
    }
   ],
   "source": [
    "# Get model metrics using trained model-\n",
    "mse = mean_squared_error(y_test, y_pred)\n",
    "mae = mean_absolute_error(y_test, y_pred)\n",
    "r2s = r2_score(y_test, y_pred)\n",
    "\n",
    "print(\"\\nSVM regressor (base model) metrics are:\")\n",
    "print(\"MAE = {0:.4f}, MSE = {1:.4f} and R2-score = {2:.4f}\\n\".format(mae, mse, r2s))"
   ]
  },
  {
   "cell_type": "markdown",
   "metadata": {},
   "source": [
    "# Using Stacked Regressors:"
   ]
  },
  {
   "cell_type": "code",
   "execution_count": 51,
   "metadata": {},
   "outputs": [],
   "source": [
    "# Create base learners-\n",
    "base_classifiers = [\n",
    "    ('dt_reg', DecisionTreeRegressor()),\n",
    "    ('knn_reg', KNeighborsRegressor(n_neighbors=6, metric='manhattan', algorithm='auto', weights='distance')),\n",
    "    ('ridge_reg', Ridge(alpha = min_alpha))\n",
    "]"
   ]
  },
  {
   "cell_type": "code",
   "execution_count": 55,
   "metadata": {},
   "outputs": [
    {
     "data": {
      "text/plain": [
       "StackingRegressor(cv=None,\n",
       "                  estimators=[('dt_reg',\n",
       "                               DecisionTreeRegressor(ccp_alpha=0.0,\n",
       "                                                     criterion='mse',\n",
       "                                                     max_depth=None,\n",
       "                                                     max_features=None,\n",
       "                                                     max_leaf_nodes=None,\n",
       "                                                     min_impurity_decrease=0.0,\n",
       "                                                     min_impurity_split=None,\n",
       "                                                     min_samples_leaf=1,\n",
       "                                                     min_samples_split=2,\n",
       "                                                     min_weight_fraction_leaf=0.0,\n",
       "                                                     presort='deprecated',\n",
       "                                                     random_state=None,\n",
       "                                                     splitter='best')),\n",
       "                              ('knn_reg',\n",
       "                               KNeighborsR...\n",
       "                                                        ccp_alpha=0.0,\n",
       "                                                        criterion='mse',\n",
       "                                                        max_depth=None,\n",
       "                                                        max_features='auto',\n",
       "                                                        max_leaf_nodes=None,\n",
       "                                                        max_samples=None,\n",
       "                                                        min_impurity_decrease=0.0,\n",
       "                                                        min_impurity_split=None,\n",
       "                                                        min_samples_leaf=1,\n",
       "                                                        min_samples_split=2,\n",
       "                                                        min_weight_fraction_leaf=0.0,\n",
       "                                                        n_estimators=50,\n",
       "                                                        n_jobs=None,\n",
       "                                                        oob_score=False,\n",
       "                                                        random_state=None,\n",
       "                                                        verbose=0,\n",
       "                                                        warm_start=False),\n",
       "                  n_jobs=None, passthrough=False, verbose=0)"
      ]
     },
     "execution_count": 55,
     "metadata": {},
     "output_type": "execute_result"
    }
   ],
   "source": [
    "# Initialize sklearn stacking regressor with a meta learner-\n",
    "stacking_reg = StackingRegressor(\n",
    "    estimators=base_classifiers,\n",
    "    final_estimator=RandomForestRegressor(n_estimators = 50)\n",
    ")\n",
    "\n",
    "\n",
    "# Train stacked classifiers on training data-\n",
    "stacking_reg.fit(X_train, y_train)"
   ]
  },
  {
   "cell_type": "code",
   "execution_count": 57,
   "metadata": {},
   "outputs": [
    {
     "data": {
      "text/plain": [
       "0.7288550370106612"
      ]
     },
     "execution_count": 57,
     "metadata": {},
     "output_type": "execute_result"
    }
   ],
   "source": [
    "# Get score of trained stacked classifier on testing data-\n",
    "stacking_reg.score(X_test, y_test)"
   ]
  },
  {
   "cell_type": "code",
   "execution_count": 58,
   "metadata": {},
   "outputs": [],
   "source": [
    "# Make predictions using stacked regressors-\n",
    "y_pred_stacked = stacking_reg.predict(X_test)"
   ]
  },
  {
   "cell_type": "code",
   "execution_count": 59,
   "metadata": {},
   "outputs": [
    {
     "name": "stdout",
     "output_type": "stream",
     "text": [
      "\n",
      "Stacked regressor metrics are:\n",
      "MAE = 2.8142, MSE = 23.2193 and R2-score = 0.7289\n",
      "\n"
     ]
    }
   ],
   "source": [
    "# Get model metrics using trained model-\n",
    "mse = mean_squared_error(y_test, y_pred_stacked)\n",
    "mae = mean_absolute_error(y_test, y_pred_stacked)\n",
    "r2s = r2_score(y_test, y_pred_stacked)\n",
    "\n",
    "print(\"\\nStacked regressor metrics are:\")\n",
    "print(\"MAE = {0:.4f}, MSE = {1:.4f} and R2-score = {2:.4f}\\n\".format(mae, mse, r2s))"
   ]
  },
  {
   "cell_type": "code",
   "execution_count": 67,
   "metadata": {},
   "outputs": [
    {
     "data": {
      "text/plain": [
       "StackingRegressor(cv=None,\n",
       "                  estimators=[('dt_reg',\n",
       "                               DecisionTreeRegressor(ccp_alpha=0.0,\n",
       "                                                     criterion='mse',\n",
       "                                                     max_depth=None,\n",
       "                                                     max_features=None,\n",
       "                                                     max_leaf_nodes=None,\n",
       "                                                     min_impurity_decrease=0.0,\n",
       "                                                     min_impurity_split=None,\n",
       "                                                     min_samples_leaf=1,\n",
       "                                                     min_samples_split=2,\n",
       "                                                     min_weight_fraction_leaf=0.0,\n",
       "                                                     presort='deprecated',\n",
       "                                                     random_state=None,\n",
       "                                                     splitter='best')),\n",
       "                              ('knn_reg',\n",
       "                               KNeighborsR...\n",
       "                                                colsample_bytree=1.0,\n",
       "                                                importance_type='split',\n",
       "                                                learning_rate=0.1, max_depth=-1,\n",
       "                                                min_child_samples=20,\n",
       "                                                min_child_weight=0.001,\n",
       "                                                min_split_gain=0.0,\n",
       "                                                n_estimators=100, n_jobs=-1,\n",
       "                                                num_leaves=31, objective=None,\n",
       "                                                random_state=None,\n",
       "                                                reg_alpha=0.0, reg_lambda=0.0,\n",
       "                                                silent=True, subsample=1.0,\n",
       "                                                subsample_for_bin=200000,\n",
       "                                                subsample_freq=0),\n",
       "                  n_jobs=None, passthrough=False, verbose=0)"
      ]
     },
     "execution_count": 67,
     "metadata": {},
     "output_type": "execute_result"
    }
   ],
   "source": [
    "# Initialize sklearn stacking regressor with a meta learner-\n",
    "stacking_reg = StackingRegressor(\n",
    "    estimators=base_classifiers,\n",
    "    final_estimator=lgb.LGBMRegressor()\n",
    ")\n",
    "\n",
    "\n",
    "# Train stacked classifiers on training data-\n",
    "stacking_reg.fit(X_train, y_train)"
   ]
  },
  {
   "cell_type": "code",
   "execution_count": 62,
   "metadata": {},
   "outputs": [],
   "source": [
    "# Make predictions using stacked regressors-\n",
    "y_pred_stacked = stacking_reg.predict(X_test)"
   ]
  },
  {
   "cell_type": "code",
   "execution_count": 63,
   "metadata": {},
   "outputs": [
    {
     "name": "stdout",
     "output_type": "stream",
     "text": [
      "\n",
      "Stacked regressor metrics (using LightGBM as final regressor) are:\n",
      "MAE = 2.9720, MSE = 22.8730 and R2-score = 0.7329\n",
      "\n"
     ]
    }
   ],
   "source": [
    "# Get model metrics using trained model-\n",
    "mse = mean_squared_error(y_test, y_pred_stacked)\n",
    "mae = mean_absolute_error(y_test, y_pred_stacked)\n",
    "r2s = r2_score(y_test, y_pred_stacked)\n",
    "\n",
    "print(\"\\nStacked regressor metrics (using LightGBM as final regressor) are:\")\n",
    "print(\"MAE = {0:.4f}, MSE = {1:.4f} and R2-score = {2:.4f}\\n\".format(mae, mse, r2s))"
   ]
  },
  {
   "cell_type": "code",
   "execution_count": 68,
   "metadata": {},
   "outputs": [
    {
     "name": "stdout",
     "output_type": "stream",
     "text": [
      "\n",
      "Metrics for Stacked regressor (using LightGBM regressor) (R2-Score) using 5-fold CV are:\n",
      "Mean = 0.7582 and Standard Deviation = 0.0596\n",
      "\n"
     ]
    }
   ],
   "source": [
    "# Using 5-fold Cross-Validation using stacked regressor from above-\n",
    "stacked_reg_cv = cross_val_score(stacking_reg, X_train, y_train, cv = 5)\n",
    "\n",
    "print(\"\\nMetrics for Stacked regressor (using LightGBM regressor) (R2-Score) using 5-fold CV are:\")\n",
    "print(\"Mean = {0:.4f} and Standard Deviation = {1:.4f}\\n\".format(stacked_reg_cv.mean(), stacked_reg_cv.std()))"
   ]
  },
  {
   "cell_type": "code",
   "execution_count": 70,
   "metadata": {},
   "outputs": [
    {
     "name": "stdout",
     "output_type": "stream",
     "text": [
      "\n",
      "Metrics for Stacked regressor (using LightGBM regressor) (MSE) using 5-fold CV are:\n",
      "Mean = 18.8763 and Standard Deviation = 10.3543\n",
      "\n"
     ]
    }
   ],
   "source": [
    "# Use 5-fold CV (MSE-Scores)-\n",
    "stacked_reg_cv_mse = cross_val_score(stacking_reg, X_train, y_train, cv = 5, scoring = 'neg_mean_squared_error')\n",
    "stacked_reg_cv_mse = -stacked_reg_cv_mse\n",
    "\n",
    "print(\"\\nMetrics for Stacked regressor (using LightGBM regressor) (MSE) using 5-fold CV are:\")\n",
    "print(\"Mean = {0:.4f} and Standard Deviation = {1:.4f}\\n\".format(stacked_reg_cv_mse.mean(), stacked_reg_cv_mse.std()))"
   ]
  },
  {
   "cell_type": "code",
   "execution_count": 72,
   "metadata": {},
   "outputs": [
    {
     "name": "stdout",
     "output_type": "stream",
     "text": [
      "\n",
      "Metrics for Stacked regressor (using LightGBM regressor) (MAE) using 5-fold CV are:\n",
      "Mean = 18.8763 and Standard Deviation = 10.3543\n",
      "\n"
     ]
    }
   ],
   "source": [
    "# Use 5-fold CV (MSE-Scores)-\n",
    "stacked_reg_cv_mae = cross_val_score(stacking_reg, X_train, y_train, cv = 5, scoring = 'neg_mean_absolute_error')\n",
    "stacked_reg_cv_mae = -stacked_reg_cv_mae\n",
    "\n",
    "print(\"\\nMetrics for Stacked regressor (using LightGBM regressor) (MAE) using 5-fold CV are:\")\n",
    "print(\"Mean = {0:.4f} and Standard Deviation = {1:.4f}\\n\".format(stacked_reg_cv_mse.mean(), stacked_reg_cv_mse.std()))"
   ]
  },
  {
   "cell_type": "markdown",
   "metadata": {},
   "source": [
    "### Observation:\n",
    "The results show that this particular configuration of stacked regressors has high variance for MAE and MSE but, R2-score appears to be fine. It would be interesting to compute the _adjusted R2-score_ as well."
   ]
  },
  {
   "cell_type": "code",
   "execution_count": 64,
   "metadata": {},
   "outputs": [
    {
     "name": "stdout",
     "output_type": "stream",
     "text": [
      "[12:36:31] WARNING: /workspace/src/objective/regression_obj.cu:152: reg:linear is now deprecated in favor of reg:squarederror.\n"
     ]
    },
    {
     "data": {
      "text/plain": [
       "StackingRegressor(cv=None,\n",
       "                  estimators=[('dt_reg',\n",
       "                               DecisionTreeRegressor(ccp_alpha=0.0,\n",
       "                                                     criterion='mse',\n",
       "                                                     max_depth=None,\n",
       "                                                     max_features=None,\n",
       "                                                     max_leaf_nodes=None,\n",
       "                                                     min_impurity_decrease=0.0,\n",
       "                                                     min_impurity_split=None,\n",
       "                                                     min_samples_leaf=1,\n",
       "                                                     min_samples_split=2,\n",
       "                                                     min_weight_fraction_leaf=0.0,\n",
       "                                                     presort='deprecated',\n",
       "                                                     random_state=None,\n",
       "                                                     splitter='best')),\n",
       "                              ('knn_reg',\n",
       "                               KNeighborsR...\n",
       "                                                 colsample_bylevel=1,\n",
       "                                                 colsample_bynode=0.8,\n",
       "                                                 colsample_bytree=1, gamma=0,\n",
       "                                                 learning_rate=1,\n",
       "                                                 max_delta_step=0, max_depth=3,\n",
       "                                                 min_child_weight=1,\n",
       "                                                 missing=None, n_estimators=100,\n",
       "                                                 n_jobs=1, nthread=None,\n",
       "                                                 objective='reg:linear',\n",
       "                                                 random_state=0, reg_alpha=0,\n",
       "                                                 reg_lambda=1,\n",
       "                                                 scale_pos_weight=1, seed=None,\n",
       "                                                 silent=None, subsample=0.8,\n",
       "                                                 verbosity=1),\n",
       "                  n_jobs=None, passthrough=False, verbose=0)"
      ]
     },
     "execution_count": 64,
     "metadata": {},
     "output_type": "execute_result"
    }
   ],
   "source": [
    "# Initialize sklearn stacking regressor with a meta learner-\n",
    "stacking_reg = StackingRegressor(\n",
    "    estimators=base_classifiers,\n",
    "    final_estimator=xgb.XGBRFRegressor()\n",
    ")\n",
    "\n",
    "\n",
    "# Train stacked classifiers on training data-\n",
    "stacking_reg.fit(X_train, y_train)"
   ]
  },
  {
   "cell_type": "code",
   "execution_count": 65,
   "metadata": {},
   "outputs": [],
   "source": [
    "# Make predictions using stacked regressors-\n",
    "y_pred_stacked = stacking_reg.predict(X_test)"
   ]
  },
  {
   "cell_type": "code",
   "execution_count": 66,
   "metadata": {},
   "outputs": [
    {
     "name": "stdout",
     "output_type": "stream",
     "text": [
      "\n",
      "Stacked regressor metrics (using XGBoost as final regressor) are:\n",
      "MAE = 2.8921, MSE = 25.3401 and R2-score = 0.7041\n",
      "\n"
     ]
    }
   ],
   "source": [
    "# Get model metrics using trained model-\n",
    "mse = mean_squared_error(y_test, y_pred_stacked)\n",
    "mae = mean_absolute_error(y_test, y_pred_stacked)\n",
    "r2s = r2_score(y_test, y_pred_stacked)\n",
    "\n",
    "print(\"\\nStacked regressor metrics (using XGBoost as final regressor) are:\")\n",
    "print(\"MAE = {0:.4f}, MSE = {1:.4f} and R2-score = {2:.4f}\\n\".format(mae, mse, r2s))"
   ]
  },
  {
   "cell_type": "markdown",
   "metadata": {},
   "source": [
    "## Takeaways:\n",
    "\n",
    "1. The _single layer_ stacked regressor which has performed 'best' so far happens to be LightGBM regressor\n",
    "1. Maybe adding more layers to the stacked regressor might improve the performance\n",
    "1. Some other combinations of regressors coupled with hyper-parameter tuning can improve the performance further"
   ]
  },
  {
   "cell_type": "code",
   "execution_count": null,
   "metadata": {},
   "outputs": [],
   "source": []
  }
 ],
 "metadata": {
  "kernelspec": {
   "display_name": "Python 3",
   "language": "python",
   "name": "python3"
  },
  "language_info": {
   "codemirror_mode": {
    "name": "ipython",
    "version": 3
   },
   "file_extension": ".py",
   "mimetype": "text/x-python",
   "name": "python",
   "nbconvert_exporter": "python",
   "pygments_lexer": "ipython3",
   "version": "3.8.1"
  }
 },
 "nbformat": 4,
 "nbformat_minor": 4
}
